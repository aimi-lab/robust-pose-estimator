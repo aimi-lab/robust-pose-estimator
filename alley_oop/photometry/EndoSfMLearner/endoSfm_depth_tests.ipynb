{
 "cells": [
  {
   "cell_type": "code",
   "execution_count": null,
   "metadata": {},
   "outputs": [],
   "source": [
    "from __future__ import absolute_import, division, print_function\n",
    "\n",
    "import os\n",
    "import numpy as np\n",
    "import PIL.Image as pil\n",
    "import matplotlib.pyplot as plt\n",
    "import glob\n",
    "import torch\n",
    "from torchvision import transforms\n",
    "import cv2"
   ]
  },
  {
   "cell_type": "code",
   "execution_count": null,
   "metadata": {},
   "outputs": [],
   "source": [
    "#Read the input images\n",
    "input_path = \"./*.png\"\n",
    "input_image_list = []\n",
    "for im in sorted(glob.glob(input_path)):\n",
    "    input_image = pil.open(im).convert('RGB')\n",
    "    input_image_list.append(input_image)"
   ]
  },
  {
   "cell_type": "code",
   "execution_count": null,
   "metadata": {},
   "outputs": [],
   "source": [
    "# Read the pielwise ground truth images\n",
    "depth_gt_path = \"./pixelwise_ground_truth/*.png\"\n",
    "ground_truth_magma = []\n",
    "cntr = 0\n",
    "for i in sorted(glob.glob(depth_gt_path)):\n",
    "    im_gray = cv2.imread(i,cv2.IMREAD_GRAYSCALE)\n",
    "    ground_truth_grey.append(im_gray)\n",
    "    norm_img = np.zeros((256,256))\n",
    "    final_img = cv2.normalize(im_gray, norm_img,0,255,cv2.NORM_MINMAX)\n",
    "    im_color = cv2.applyColorMap(final_img,cv2.COLORMAP_MAGMA)\n",
    "    ground_truth_magma.append(im_color)\n",
    "    cntr+=1\n",
    "    print(cntr)"
   ]
  },
  {
   "cell_type": "code",
   "execution_count": null,
   "metadata": {},
   "outputs": [],
   "source": [
    "#Check if the input and ground truth image counts are consistent or not.\n",
    "len(input_image_list),len(ground_truth_magma)"
   ]
  },
  {
   "cell_type": "code",
   "execution_count": null,
   "metadata": {},
   "outputs": [],
   "source": [
    "#Check the grey scale and magma ground truths channel and pixel counts for first image\n",
    "ground_truth_grey[0].shape, ground_truth_magma[0].shape"
   ]
  },
  {
   "cell_type": "code",
   "execution_count": null,
   "metadata": {},
   "outputs": [],
   "source": [
    "#Give the path for the result of test_disp.py for input images. \n",
    "endosfm_pred_path = \"./predictions.npy\" \n",
    "endosfm_preds = np.load(endosfm_pred_path,allow_pickle=True)"
   ]
  },
  {
   "cell_type": "code",
   "execution_count": null,
   "metadata": {},
   "outputs": [],
   "source": [
    "#Visualize the results as input ground truth and EndosfMLearner predictions\n",
    "for i in range(len(endosfm_preds)):\n",
    "    plt.figure(figsize=(12, 12))\n",
    "    \n",
    "    plt.subplot(131)\n",
    "    plt.imshow(input_image_list[i])\n",
    "    plt.title(\"Input\", fontsize=9)\n",
    "    plt.axis('off')\n",
    "\n",
    "    plt.subplot(132)\n",
    "    plt.imshow(ground_truth_grey[i], cmap='magma')\n",
    "    plt.title(\"Ground Truth\", fontsize=9)\n",
    "    plt.axis('off')\n",
    "    \n",
    "    plt.subplot(133)\n",
    "    plt.imshow(endosfm_preds[i], cmap='magma')\n",
    "    plt.title(\"Predictions\", fontsize=9)\n",
    "    plt.axis('off')"
   ]
  },
  {
   "cell_type": "code",
   "execution_count": null,
   "metadata": {},
   "outputs": [],
   "source": [
    "import numpy as np; np.random.seed(0)\n",
    "import seaborn as sns; sns.set()\n",
    "ax = sns.heatmap(ground_truth_grey[30]-endosfm_preds[30],annot=False,xticklabels=False,yticklabels=False,cbar=False)\n",
    "ax.tick_params(left=False, bottom=False)"
   ]
  },
  {
   "cell_type": "code",
   "execution_count": null,
   "metadata": {},
   "outputs": [],
   "source": [
    "# Pick an image with specific index to check min and max depth for image. As an example, we picked i=30.\n",
    "print(np.amax(endosfm_preds[30])),print(np.amax(ground_truth_grey[30]))"
   ]
  },
  {
   "cell_type": "code",
   "execution_count": null,
   "metadata": {},
   "outputs": [],
   "source": [
    "(endosfm_preds[30]-ground_truth_grey[30]).shape"
   ]
  },
  {
   "cell_type": "code",
   "execution_count": null,
   "metadata": {},
   "outputs": [],
   "source": [
    "#ground truth depth vs. predicted depth calculations in terms of PSNR and SSIM metrics\n",
    "import statistics \n",
    "import math\n",
    "import cv2\n",
    "from skimage.metrics import structural_similarity\n",
    "\n",
    "\n",
    "psnrs = []\n",
    "ssims = []\n",
    "\n",
    "def psnr(img1, img2):\n",
    "    mse = np.mean( (img1 - img2) ** 2 )\n",
    "    if mse == 0:\n",
    "        return 100\n",
    "    PIXEL_MAX = 255.0\n",
    "    return 20 * math.log10(PIXEL_MAX / math.sqrt(mse))\n",
    "\n",
    "def ssim(im1,im2):\n",
    "    #grayA = cv2.cvtColor(im1, cv2.COLOR_BGR2GRAY)\n",
    "    #grayB = cv2.cvtColor(im2, cv2.COLOR_BGR2GRAY)\n",
    "    (score, diff) = structural_similarity(im1, im2, full=True)\n",
    "    return score\n",
    "\n",
    "\n",
    "for i in range(len(ground_truth_magma)):\n",
    "    gt_image = ground_truth_grey[i]\n",
    "    pred_image = sfm_ours_preds[i].cpu().detach().numpy()\n",
    "    p = psnr(gt_image,pred_image)\n",
    "    s = ssim(gt_image,pred_image)\n",
    "    psnrs.append(p)\n",
    "    ssims.append(s)\n",
    "\n",
    "psnr_mean_endo = statistics.mean(psnrs)\n",
    "ssim_mean_endo = statistics.mean(ssims)\n",
    "psnr_stdev_endo = statistics.stdev(psnrs)\n",
    "ssim_stdev_endo = statistics.stdev(ssims)\n"
   ]
  },
  {
   "cell_type": "code",
   "execution_count": null,
   "metadata": {},
   "outputs": [],
   "source": [
    "psnr_mean_endo, ssim_mean_endo, psnr_stdev_endo, ssim_stdev_endo"
   ]
  },
  {
   "cell_type": "code",
   "execution_count": null,
   "metadata": {},
   "outputs": [],
   "source": [
    "# dump output image for psnrs as numpy array\n",
    "np.save('./colon_depth_psnrs.npy',np.array(psnrs), allow_pickle=True)\n",
    "\n",
    "# dump output image for ssims as numpy array\n",
    "np.save('./colon_depth_ssim.npy',np.array(ssims), allow_pickle=True)"
   ]
  },
  {
   "cell_type": "code",
   "execution_count": null,
   "metadata": {},
   "outputs": [],
   "source": [
    "import math\n",
    "from skimage import img_as_float\n",
    "from sklearn.metrics import mean_squared_error as mse\n",
    "def rmsdiff(im1, im2):\n",
    "    \"\"\"Calculates the root mean square error (RSME) between two images\"\"\"\n",
    "    return math.sqrt(mse(img_as_float(im1), img_as_float(im2)))"
   ]
  },
  {
   "cell_type": "code",
   "execution_count": null,
   "metadata": {},
   "outputs": [],
   "source": [
    "def norm(image):\n",
    "    normalized = (image - np.amin(image))/(np.amax(image)-np.amin(image))\n",
    "    return normalized"
   ]
  },
  {
   "cell_type": "code",
   "execution_count": null,
   "metadata": {},
   "outputs": [],
   "source": [
    "endosfm_rmse = []\n",
    "for t in range(len(ground_truth_grey)):\n",
    "    endosfm_rmse.append(rmsdiff(norm(ground_truth_grey[t]),norm(endosfm_preds[t])))               "
   ]
  },
  {
   "cell_type": "code",
   "execution_count": null,
   "metadata": {},
   "outputs": [],
   "source": [
    "statistics.stdev(endosfm_rmse)\n",
    "statistics.mean(endosfm_rmse)"
   ]
  },
  {
   "cell_type": "code",
   "execution_count": null,
   "metadata": {},
   "outputs": [],
   "source": [
    "RM = PrettyTable()\n",
    "RM.field_names = [\"Algorithm\",\"RMSE_mean\",\"RMSE_std\"]\n",
    "RM.add_row([\"EndoSfM\",\"{:.4f}\".format(statistics.mean(endosfm_rmse)),\"{:.4f}\".format(statistics.stdev(endosfm_rmse))])\n",
    "print(RM)"
   ]
  },
  {
   "cell_type": "code",
   "execution_count": null,
   "metadata": {},
   "outputs": [],
   "source": [
    "z = PrettyTable()\n",
    "z.field_names = [\"Algorithm\", \"TrainData\", \"TestData\", \"PSNR Mean\", \"SSIM Mean\", \"PSNR Stdev\", \"SSIM Stdev\"]\n",
    "for i in range(len(psnr_mean)):\n",
    "    z.add_row([\"EndoSfM\", \"Trained\", \"Stom-Unity\", \"{:.4f}\".format(psnr_mean[i]),\"{:.4f}\".format(ssim_mean[i]), \"{:.4f}\".format(psnr_stdev[i]), \"{:.4f}\".format(ssim_stdev[i])])\n"
   ]
  },
  {
   "cell_type": "code",
   "execution_count": null,
   "metadata": {},
   "outputs": [],
   "source": [
    "for i in range(len(ground_truth_grey)):\n",
    "    gt_image = ground_truth_grey[i]\n",
    "    pred_image = endosfm_preds[i]\n",
    "    p = psnr(gt_image,pred_image)\n",
    "    s = ssim(gt_image,pred_image)\n",
    "    psnrs.append(p)\n",
    "    ssims.append(s)\n",
    "\n",
    "psnr_mean.append(statistics.mean(psnrs))\n",
    "ssim_mean.append(statistics.mean(ssims))\n",
    "psnr_stdev.append(statistics.stdev(psnrs))\n",
    "ssim_stdev.append(statistics.stdev(ssims))"
   ]
  }
 ],
 "metadata": {
  "kernelspec": {
   "display_name": "Python 3",
   "language": "python",
   "name": "python3"
  },
  "language_info": {
   "codemirror_mode": {
    "name": "ipython",
    "version": 3
   },
   "file_extension": ".py",
   "mimetype": "text/x-python",
   "name": "python",
   "nbconvert_exporter": "python",
   "pygments_lexer": "ipython3",
   "version": "3.6.10"
  }
 },
 "nbformat": 4,
 "nbformat_minor": 4
}
